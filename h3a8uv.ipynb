{
    "metadata": {
        "kernelspec": {
            "name": "SQL",
            "display_name": "SQL",
            "language": "sql"
        },
        "language_info": {
            "name": "sql",
            "version": ""
        }
    },
    "nbformat_minor": 2,
    "nbformat": 4,
    "cells": [
        {
            "cell_type": "markdown",
            "source": [
                "- Hozzon létre 3 lekérdezést, amelyeknél a GROUP BY speciális lehetőségeit használja"
            ],
            "metadata": {
                "azdata_cell_guid": "95c15ac7-496e-4054-b7b9-ebea0bddaefb"
            },
            "attachments": {}
        },
        {
            "cell_type": "markdown",
            "source": [
                "Listázza ki a férőhelyek összességéről csillagok száma, azon belül a szállás típusa alapján csoportosítva ROLLUP záradékkal. Ebben megtalálhatóak az összesítések részeredményei a csillagok számára lebontva."
            ],
            "metadata": {
                "language": "sql",
                "azdata_cell_guid": "eccd9fd5-e226-42c4-8359-1d9109a86192"
            },
            "attachments": {}
        },
        {
            "cell_type": "code",
            "source": [
                "SELECT CSILLAGOK_SZAMA,\r\n",
                "       TIPUS,\r\n",
                "       SUM(FEROHELY) as 'Férőhelyek száma összesen',\r\n",
                "       COUNT(KLIMAS) as 'Klímás szállások'\r\n",
                "FROM Szallashely JOIN Szoba ON Szallashely.SZALLAS_ID = Szoba.SZALLAS_FK\r\n",
                "GROUP BY ROLLUP(CSILLAGOK_SZAMA, TIPUS);"
            ],
            "metadata": {
                "language": "sql",
                "azdata_cell_guid": "02b3fcd7-6dcf-4d70-bc77-0aa55f3f76e1",
                "tags": []
            },
            "outputs": [
                {
                    "output_type": "display_data",
                    "data": {
                        "text/html": "(10 rows affected)"
                    },
                    "metadata": {}
                },
                {
                    "output_type": "display_data",
                    "data": {
                        "text/html": "Total execution time: 00:00:00.076"
                    },
                    "metadata": {}
                },
                {
                    "output_type": "execute_result",
                    "metadata": {},
                    "execution_count": 3,
                    "data": {
                        "application/vnd.dataresource+json": {
                            "schema": {
                                "fields": [
                                    {
                                        "name": "CSILLAGOK_SZAMA"
                                    },
                                    {
                                        "name": "TIPUS"
                                    },
                                    {
                                        "name": "Férőhelyek száma összesen"
                                    },
                                    {
                                        "name": "Klímás szállások"
                                    }
                                ]
                            },
                            "data": [
                                {
                                    "CSILLAGOK_SZAMA": "0",
                                    "TIPUS": "Apartman",
                                    "Férőhelyek száma összesen": "46",
                                    "Klímás szállások": "17"
                                },
                                {
                                    "CSILLAGOK_SZAMA": "0",
                                    "TIPUS": "Diákszálló",
                                    "Férőhelyek száma összesen": "24",
                                    "Klímás szállások": "10"
                                },
                                {
                                    "CSILLAGOK_SZAMA": "0",
                                    "TIPUS": "vendégház",
                                    "Férőhelyek száma összesen": "72",
                                    "Klímás szállások": "29"
                                },
                                {
                                    "CSILLAGOK_SZAMA": "0",
                                    "TIPUS": "NULL",
                                    "Férőhelyek száma összesen": "142",
                                    "Klímás szállások": "56"
                                },
                                {
                                    "CSILLAGOK_SZAMA": "3",
                                    "TIPUS": "Hotel",
                                    "Férőhelyek száma összesen": "249",
                                    "Klímás szállások": "105"
                                },
                                {
                                    "CSILLAGOK_SZAMA": "3",
                                    "TIPUS": "panzió",
                                    "Férőhelyek száma összesen": "136",
                                    "Klímás szállások": "54"
                                },
                                {
                                    "CSILLAGOK_SZAMA": "3",
                                    "TIPUS": "NULL",
                                    "Férőhelyek száma összesen": "385",
                                    "Klímás szállások": "159"
                                },
                                {
                                    "CSILLAGOK_SZAMA": "4",
                                    "TIPUS": "Hotel",
                                    "Férőhelyek száma összesen": "188",
                                    "Klímás szállások": "79"
                                },
                                {
                                    "CSILLAGOK_SZAMA": "4",
                                    "TIPUS": "NULL",
                                    "Férőhelyek száma összesen": "188",
                                    "Klímás szállások": "79"
                                },
                                {
                                    "CSILLAGOK_SZAMA": "NULL",
                                    "TIPUS": "NULL",
                                    "Férőhelyek száma összesen": "715",
                                    "Klímás szállások": "294"
                                }
                            ]
                        },
                        "text/html": [
                            "<table>",
                            "<tr><th>CSILLAGOK_SZAMA</th><th>TIPUS</th><th>Férőhelyek száma összesen</th><th>Klímás szállások</th></tr>",
                            "<tr><td>0</td><td>Apartman</td><td>46</td><td>17</td></tr>",
                            "<tr><td>0</td><td>Diákszálló</td><td>24</td><td>10</td></tr>",
                            "<tr><td>0</td><td>vendégház</td><td>72</td><td>29</td></tr>",
                            "<tr><td>0</td><td>NULL</td><td>142</td><td>56</td></tr>",
                            "<tr><td>3</td><td>Hotel</td><td>249</td><td>105</td></tr>",
                            "<tr><td>3</td><td>panzió</td><td>136</td><td>54</td></tr>",
                            "<tr><td>3</td><td>NULL</td><td>385</td><td>159</td></tr>",
                            "<tr><td>4</td><td>Hotel</td><td>188</td><td>79</td></tr>",
                            "<tr><td>4</td><td>NULL</td><td>188</td><td>79</td></tr>",
                            "<tr><td>NULL</td><td>NULL</td><td>715</td><td>294</td></tr>",
                            "</table>"
                        ]
                    }
                }
            ],
            "execution_count": 3
        },
        {
            "cell_type": "markdown",
            "source": [
                "Listázza ki a foglalások számát és a foglalásokból következő teljes árbevételt a foglalás kezdeti dátumának éve szerint, majd a hónapja szerint csoportosítva, ROLLUP záradékkal"
            ],
            "metadata": {
                "azdata_cell_guid": "7f7ad97b-0727-4a90-9fbf-ab4f9b403467"
            },
            "attachments": {}
        },
        {
            "cell_type": "code",
            "source": [
                "SELECT YEAR(F.METTOL) AS 'Kezdeti év',\r\n",
                "       MONTH(F.METTOL) AS 'Kezdeti hónap',\r\n",
                "       COUNT(F.FOGLALAS_PK) AS 'Foglalások száma',\r\n",
                "       SUM(Sz.FEROHELY * DATEDIFF(day, F.METTOL, F.MEDDIG)) AS 'Teljes árbevétel'\r\n",
                "FROM Foglalas F JOIN Szoba Sz ON F.SZOBA_FK = Sz.SZOBA_ID\r\n",
                "GROUP BY YEAR(F.METTOL), MONTH(F.METTOL) WITH ROLLUP\r\n",
                ""
            ],
            "metadata": {
                "azdata_cell_guid": "28153114-203a-4a27-bced-3007febb864f",
                "language": "sql"
            },
            "outputs": [
                {
                    "output_type": "display_data",
                    "data": {
                        "text/html": "(15 rows affected)"
                    },
                    "metadata": {}
                },
                {
                    "output_type": "display_data",
                    "data": {
                        "text/html": "Total execution time: 00:00:00.090"
                    },
                    "metadata": {}
                },
                {
                    "output_type": "execute_result",
                    "metadata": {},
                    "execution_count": 22,
                    "data": {
                        "application/vnd.dataresource+json": {
                            "schema": {
                                "fields": [
                                    {
                                        "name": "Kezdeti év"
                                    },
                                    {
                                        "name": "Kezdeti hónap"
                                    },
                                    {
                                        "name": "Foglalások száma"
                                    },
                                    {
                                        "name": "Teljes árbevétel"
                                    }
                                ]
                            },
                            "data": [
                                {
                                    "Kezdeti év": "2016",
                                    "Kezdeti hónap": "4",
                                    "Foglalások száma": "53",
                                    "Teljes árbevétel": "522"
                                },
                                {
                                    "Kezdeti év": "2016",
                                    "Kezdeti hónap": "5",
                                    "Foglalások száma": "88",
                                    "Teljes árbevétel": "909"
                                },
                                {
                                    "Kezdeti év": "2016",
                                    "Kezdeti hónap": "6",
                                    "Foglalások száma": "110",
                                    "Teljes árbevétel": "1041"
                                },
                                {
                                    "Kezdeti év": "2016",
                                    "Kezdeti hónap": "7",
                                    "Foglalások száma": "113",
                                    "Teljes árbevétel": "1082"
                                },
                                {
                                    "Kezdeti év": "2016",
                                    "Kezdeti hónap": "8",
                                    "Foglalások száma": "99",
                                    "Teljes árbevétel": "983"
                                },
                                {
                                    "Kezdeti év": "2016",
                                    "Kezdeti hónap": "9",
                                    "Foglalások száma": "76",
                                    "Teljes árbevétel": "749"
                                },
                                {
                                    "Kezdeti év": "2016",
                                    "Kezdeti hónap": "10",
                                    "Foglalások száma": "137",
                                    "Teljes árbevétel": "1419"
                                },
                                {
                                    "Kezdeti év": "2016",
                                    "Kezdeti hónap": "11",
                                    "Foglalások száma": "100",
                                    "Teljes árbevétel": "924"
                                },
                                {
                                    "Kezdeti év": "2016",
                                    "Kezdeti hónap": "12",
                                    "Foglalások száma": "76",
                                    "Teljes árbevétel": "809"
                                },
                                {
                                    "Kezdeti év": "2016",
                                    "Kezdeti hónap": "NULL",
                                    "Foglalások száma": "852",
                                    "Teljes árbevétel": "8438"
                                },
                                {
                                    "Kezdeti év": "2017",
                                    "Kezdeti hónap": "1",
                                    "Foglalások száma": "77",
                                    "Teljes árbevétel": "760"
                                },
                                {
                                    "Kezdeti év": "2017",
                                    "Kezdeti hónap": "2",
                                    "Foglalások száma": "93",
                                    "Teljes árbevétel": "885"
                                },
                                {
                                    "Kezdeti év": "2017",
                                    "Kezdeti hónap": "3",
                                    "Foglalások száma": "5",
                                    "Teljes árbevétel": "37"
                                },
                                {
                                    "Kezdeti év": "2017",
                                    "Kezdeti hónap": "NULL",
                                    "Foglalások száma": "175",
                                    "Teljes árbevétel": "1682"
                                },
                                {
                                    "Kezdeti év": "NULL",
                                    "Kezdeti hónap": "NULL",
                                    "Foglalások száma": "1027",
                                    "Teljes árbevétel": "10120"
                                }
                            ]
                        },
                        "text/html": [
                            "<table>",
                            "<tr><th>Kezdeti év</th><th>Kezdeti hónap</th><th>Foglalások száma</th><th>Teljes árbevétel</th></tr>",
                            "<tr><td>2016</td><td>4</td><td>53</td><td>522</td></tr>",
                            "<tr><td>2016</td><td>5</td><td>88</td><td>909</td></tr>",
                            "<tr><td>2016</td><td>6</td><td>110</td><td>1041</td></tr>",
                            "<tr><td>2016</td><td>7</td><td>113</td><td>1082</td></tr>",
                            "<tr><td>2016</td><td>8</td><td>99</td><td>983</td></tr>",
                            "<tr><td>2016</td><td>9</td><td>76</td><td>749</td></tr>",
                            "<tr><td>2016</td><td>10</td><td>137</td><td>1419</td></tr>",
                            "<tr><td>2016</td><td>11</td><td>100</td><td>924</td></tr>",
                            "<tr><td>2016</td><td>12</td><td>76</td><td>809</td></tr>",
                            "<tr><td>2016</td><td>NULL</td><td>852</td><td>8438</td></tr>",
                            "<tr><td>2017</td><td>1</td><td>77</td><td>760</td></tr>",
                            "<tr><td>2017</td><td>2</td><td>93</td><td>885</td></tr>",
                            "<tr><td>2017</td><td>3</td><td>5</td><td>37</td></tr>",
                            "<tr><td>2017</td><td>NULL</td><td>175</td><td>1682</td></tr>",
                            "<tr><td>NULL</td><td>NULL</td><td>1027</td><td>10120</td></tr>",
                            "</table>"
                        ]
                    }
                }
            ],
            "execution_count": 22
        },
        {
            "cell_type": "markdown",
            "source": [
                "Készítsünk listát az egyes ügyfelek átlagos tartózkodási idejéről az ügyfél születési éve, és a gyermekek száma szerint csoportosítva!"
            ],
            "metadata": {
                "azdata_cell_guid": "1c25f391-e5c7-45a6-90ef-8a25b860c3c0"
            },
            "attachments": {}
        },
        {
            "cell_type": "code",
            "source": [
                "SELECT YEAR(SZUL_DAT) as 'Születési év',\r\n",
                "       GYERMEK_SZAM,\r\n",
                "       AVG(DATEDIFF(day , METTOL, MEDDIG)) as 'Átlagos tartózkodási idő'\r\n",
                "FROM Vendeg JOIN Foglalas ON Vendeg.USERNEV = Foglalas.UGYFEL_FK\r\n",
                "GROUP BY GROUPING SETS(YEAR(SZUL_DAT),(GYERMEK_SZAM))\r\n",
                ""
            ],
            "metadata": {
                "azdata_cell_guid": "bda5f9be-a3dd-4a93-a0be-cb60305914b9",
                "language": "sql",
                "tags": []
            },
            "outputs": [
                {
                    "output_type": "display_data",
                    "data": {
                        "text/html": "(37 rows affected)"
                    },
                    "metadata": {}
                },
                {
                    "output_type": "display_data",
                    "data": {
                        "text/html": "Total execution time: 00:00:00.543"
                    },
                    "metadata": {}
                },
                {
                    "output_type": "execute_result",
                    "metadata": {},
                    "execution_count": 21,
                    "data": {
                        "application/vnd.dataresource+json": {
                            "schema": {
                                "fields": [
                                    {
                                        "name": "Születési év"
                                    },
                                    {
                                        "name": "GYERMEK_SZAM"
                                    },
                                    {
                                        "name": "Átlagos tartózkodási idő"
                                    }
                                ]
                            },
                            "data": [
                                {
                                    "Születési év": "NULL",
                                    "GYERMEK_SZAM": "0",
                                    "Átlagos tartózkodási idő": "4"
                                },
                                {
                                    "Születési év": "NULL",
                                    "GYERMEK_SZAM": "1",
                                    "Átlagos tartózkodási idő": "3"
                                },
                                {
                                    "Születési év": "NULL",
                                    "GYERMEK_SZAM": "2",
                                    "Átlagos tartózkodási idő": "3"
                                },
                                {
                                    "Születési év": "NULL",
                                    "GYERMEK_SZAM": "3",
                                    "Átlagos tartózkodási idő": "3"
                                },
                                {
                                    "Születési év": "NULL",
                                    "GYERMEK_SZAM": "4",
                                    "Átlagos tartózkodási idő": "5"
                                },
                                {
                                    "Születési év": "1967",
                                    "GYERMEK_SZAM": "NULL",
                                    "Átlagos tartózkodási idő": "4"
                                },
                                {
                                    "Születési év": "1968",
                                    "GYERMEK_SZAM": "NULL",
                                    "Átlagos tartózkodási idő": "3"
                                },
                                {
                                    "Születési év": "1969",
                                    "GYERMEK_SZAM": "NULL",
                                    "Átlagos tartózkodási idő": "3"
                                },
                                {
                                    "Születési év": "1970",
                                    "GYERMEK_SZAM": "NULL",
                                    "Átlagos tartózkodási idő": "3"
                                },
                                {
                                    "Születési év": "1971",
                                    "GYERMEK_SZAM": "NULL",
                                    "Átlagos tartózkodási idő": "3"
                                },
                                {
                                    "Születési év": "1972",
                                    "GYERMEK_SZAM": "NULL",
                                    "Átlagos tartózkodási idő": "3"
                                },
                                {
                                    "Születési év": "1973",
                                    "GYERMEK_SZAM": "NULL",
                                    "Átlagos tartózkodási idő": "3"
                                },
                                {
                                    "Születési év": "1974",
                                    "GYERMEK_SZAM": "NULL",
                                    "Átlagos tartózkodási idő": "4"
                                },
                                {
                                    "Születési év": "1975",
                                    "GYERMEK_SZAM": "NULL",
                                    "Átlagos tartózkodási idő": "4"
                                },
                                {
                                    "Születési év": "1976",
                                    "GYERMEK_SZAM": "NULL",
                                    "Átlagos tartózkodási idő": "3"
                                },
                                {
                                    "Születési év": "1977",
                                    "GYERMEK_SZAM": "NULL",
                                    "Átlagos tartózkodási idő": "3"
                                },
                                {
                                    "Születési év": "1978",
                                    "GYERMEK_SZAM": "NULL",
                                    "Átlagos tartózkodási idő": "3"
                                },
                                {
                                    "Születési év": "1979",
                                    "GYERMEK_SZAM": "NULL",
                                    "Átlagos tartózkodási idő": "4"
                                },
                                {
                                    "Születési év": "1980",
                                    "GYERMEK_SZAM": "NULL",
                                    "Átlagos tartózkodási idő": "3"
                                },
                                {
                                    "Születési év": "1981",
                                    "GYERMEK_SZAM": "NULL",
                                    "Átlagos tartózkodási idő": "4"
                                },
                                {
                                    "Születési év": "1982",
                                    "GYERMEK_SZAM": "NULL",
                                    "Átlagos tartózkodási idő": "3"
                                },
                                {
                                    "Születési év": "1983",
                                    "GYERMEK_SZAM": "NULL",
                                    "Átlagos tartózkodási idő": "3"
                                },
                                {
                                    "Születési év": "1984",
                                    "GYERMEK_SZAM": "NULL",
                                    "Átlagos tartózkodási idő": "4"
                                },
                                {
                                    "Születési év": "1985",
                                    "GYERMEK_SZAM": "NULL",
                                    "Átlagos tartózkodási idő": "4"
                                },
                                {
                                    "Születési év": "1986",
                                    "GYERMEK_SZAM": "NULL",
                                    "Átlagos tartózkodási idő": "3"
                                },
                                {
                                    "Születési év": "1987",
                                    "GYERMEK_SZAM": "NULL",
                                    "Átlagos tartózkodási idő": "4"
                                },
                                {
                                    "Születési év": "1988",
                                    "GYERMEK_SZAM": "NULL",
                                    "Átlagos tartózkodási idő": "3"
                                },
                                {
                                    "Születési év": "1989",
                                    "GYERMEK_SZAM": "NULL",
                                    "Átlagos tartózkodási idő": "3"
                                },
                                {
                                    "Születési év": "1990",
                                    "GYERMEK_SZAM": "NULL",
                                    "Átlagos tartózkodási idő": "3"
                                },
                                {
                                    "Születési év": "1991",
                                    "GYERMEK_SZAM": "NULL",
                                    "Átlagos tartózkodási idő": "4"
                                },
                                {
                                    "Születési év": "1992",
                                    "GYERMEK_SZAM": "NULL",
                                    "Átlagos tartózkodási idő": "4"
                                },
                                {
                                    "Születési év": "1993",
                                    "GYERMEK_SZAM": "NULL",
                                    "Átlagos tartózkodási idő": "3"
                                },
                                {
                                    "Születési év": "1994",
                                    "GYERMEK_SZAM": "NULL",
                                    "Átlagos tartózkodási idő": "3"
                                },
                                {
                                    "Születési év": "1995",
                                    "GYERMEK_SZAM": "NULL",
                                    "Átlagos tartózkodási idő": "3"
                                },
                                {
                                    "Születési év": "1996",
                                    "GYERMEK_SZAM": "NULL",
                                    "Átlagos tartózkodási idő": "4"
                                },
                                {
                                    "Születési év": "1997",
                                    "GYERMEK_SZAM": "NULL",
                                    "Átlagos tartózkodási idő": "3"
                                },
                                {
                                    "Születési év": "1998",
                                    "GYERMEK_SZAM": "NULL",
                                    "Átlagos tartózkodási idő": "8"
                                }
                            ]
                        },
                        "text/html": [
                            "<table>",
                            "<tr><th>Születési év</th><th>GYERMEK_SZAM</th><th>Átlagos tartózkodási idő</th></tr>",
                            "<tr><td>NULL</td><td>0</td><td>4</td></tr>",
                            "<tr><td>NULL</td><td>1</td><td>3</td></tr>",
                            "<tr><td>NULL</td><td>2</td><td>3</td></tr>",
                            "<tr><td>NULL</td><td>3</td><td>3</td></tr>",
                            "<tr><td>NULL</td><td>4</td><td>5</td></tr>",
                            "<tr><td>1967</td><td>NULL</td><td>4</td></tr>",
                            "<tr><td>1968</td><td>NULL</td><td>3</td></tr>",
                            "<tr><td>1969</td><td>NULL</td><td>3</td></tr>",
                            "<tr><td>1970</td><td>NULL</td><td>3</td></tr>",
                            "<tr><td>1971</td><td>NULL</td><td>3</td></tr>",
                            "<tr><td>1972</td><td>NULL</td><td>3</td></tr>",
                            "<tr><td>1973</td><td>NULL</td><td>3</td></tr>",
                            "<tr><td>1974</td><td>NULL</td><td>4</td></tr>",
                            "<tr><td>1975</td><td>NULL</td><td>4</td></tr>",
                            "<tr><td>1976</td><td>NULL</td><td>3</td></tr>",
                            "<tr><td>1977</td><td>NULL</td><td>3</td></tr>",
                            "<tr><td>1978</td><td>NULL</td><td>3</td></tr>",
                            "<tr><td>1979</td><td>NULL</td><td>4</td></tr>",
                            "<tr><td>1980</td><td>NULL</td><td>3</td></tr>",
                            "<tr><td>1981</td><td>NULL</td><td>4</td></tr>",
                            "<tr><td>1982</td><td>NULL</td><td>3</td></tr>",
                            "<tr><td>1983</td><td>NULL</td><td>3</td></tr>",
                            "<tr><td>1984</td><td>NULL</td><td>4</td></tr>",
                            "<tr><td>1985</td><td>NULL</td><td>4</td></tr>",
                            "<tr><td>1986</td><td>NULL</td><td>3</td></tr>",
                            "<tr><td>1987</td><td>NULL</td><td>4</td></tr>",
                            "<tr><td>1988</td><td>NULL</td><td>3</td></tr>",
                            "<tr><td>1989</td><td>NULL</td><td>3</td></tr>",
                            "<tr><td>1990</td><td>NULL</td><td>3</td></tr>",
                            "<tr><td>1991</td><td>NULL</td><td>4</td></tr>",
                            "<tr><td>1992</td><td>NULL</td><td>4</td></tr>",
                            "<tr><td>1993</td><td>NULL</td><td>3</td></tr>",
                            "<tr><td>1994</td><td>NULL</td><td>3</td></tr>",
                            "<tr><td>1995</td><td>NULL</td><td>3</td></tr>",
                            "<tr><td>1996</td><td>NULL</td><td>4</td></tr>",
                            "<tr><td>1997</td><td>NULL</td><td>3</td></tr>",
                            "<tr><td>1998</td><td>NULL</td><td>8</td></tr>",
                            "</table>"
                        ]
                    }
                }
            ],
            "execution_count": 21
        }
    ]
}