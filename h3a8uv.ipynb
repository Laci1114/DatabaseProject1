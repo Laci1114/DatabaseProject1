{
    "metadata": {
        "kernelspec": {
            "name": "SQL",
            "display_name": "SQL",
            "language": "sql"
        },
        "language_info": {
            "name": "sql",
            "version": ""
        }
    },
    "nbformat_minor": 2,
    "nbformat": 4,
    "cells": [
        {
            "cell_type": "markdown",
            "source": [
                "- Hozzon létre 3 lekérdezést, amelyeknél a GROUP BY speciális lehetőségeit használja"
            ],
            "metadata": {
                "azdata_cell_guid": "95c15ac7-496e-4054-b7b9-ebea0bddaefb"
            },
            "attachments": {}
        },
        {
            "cell_type": "markdown",
            "source": [
                "Listázza ki a férőhelyek összességéről csillagok száma, azon belül a szállás típusa alapján csoportosítva ROLLUP záradékkal. Ebben megtalálhatóak az összesítések részeredményei a csillagok számára lebontva."
            ],
            "metadata": {
                "language": "sql",
                "azdata_cell_guid": "eccd9fd5-e226-42c4-8359-1d9109a86192"
            },
            "attachments": {}
        },
        {
            "cell_type": "code",
            "source": [
                "SELECT CSILLAGOK_SZAMA,\r\n",
                "       TIPUS,\r\n",
                "       SUM(FEROHELY) as 'Férőhelyek száma összesen',\r\n",
                "       COUNT(KLIMAS) as 'Klímás szállások'\r\n",
                "FROM Szallashely JOIN Szoba ON Szallashely.SZALLAS_ID = Szoba.SZALLAS_FK\r\n",
                "GROUP BY ROLLUP(CSILLAGOK_SZAMA, TIPUS);"
            ],
            "metadata": {
                "language": "sql",
                "azdata_cell_guid": "02b3fcd7-6dcf-4d70-bc77-0aa55f3f76e1",
                "tags": []
            },
            "outputs": [
                {
                    "output_type": "display_data",
                    "data": {
                        "text/html": "(10 rows affected)"
                    },
                    "metadata": {}
                },
                {
                    "output_type": "display_data",
                    "data": {
                        "text/html": "Total execution time: 00:00:00.076"
                    },
                    "metadata": {}
                },
                {
                    "output_type": "execute_result",
                    "execution_count": 3,
                    "data": {
                        "application/vnd.dataresource+json": {
                            "schema": {
                                "fields": [
                                    {
                                        "name": "CSILLAGOK_SZAMA"
                                    },
                                    {
                                        "name": "TIPUS"
                                    },
                                    {
                                        "name": "Férőhelyek száma összesen"
                                    },
                                    {
                                        "name": "Klímás szállások"
                                    }
                                ]
                            },
                            "data": [
                                {
                                    "CSILLAGOK_SZAMA": "0",
                                    "TIPUS": "Apartman",
                                    "Férőhelyek száma összesen": "46",
                                    "Klímás szállások": "17"
                                },
                                {
                                    "CSILLAGOK_SZAMA": "0",
                                    "TIPUS": "Diákszálló",
                                    "Férőhelyek száma összesen": "24",
                                    "Klímás szállások": "10"
                                },
                                {
                                    "CSILLAGOK_SZAMA": "0",
                                    "TIPUS": "vendégház",
                                    "Férőhelyek száma összesen": "72",
                                    "Klímás szállások": "29"
                                },
                                {
                                    "CSILLAGOK_SZAMA": "0",
                                    "TIPUS": "NULL",
                                    "Férőhelyek száma összesen": "142",
                                    "Klímás szállások": "56"
                                },
                                {
                                    "CSILLAGOK_SZAMA": "3",
                                    "TIPUS": "Hotel",
                                    "Férőhelyek száma összesen": "249",
                                    "Klímás szállások": "105"
                                },
                                {
                                    "CSILLAGOK_SZAMA": "3",
                                    "TIPUS": "panzió",
                                    "Férőhelyek száma összesen": "136",
                                    "Klímás szállások": "54"
                                },
                                {
                                    "CSILLAGOK_SZAMA": "3",
                                    "TIPUS": "NULL",
                                    "Férőhelyek száma összesen": "385",
                                    "Klímás szállások": "159"
                                },
                                {
                                    "CSILLAGOK_SZAMA": "4",
                                    "TIPUS": "Hotel",
                                    "Férőhelyek száma összesen": "188",
                                    "Klímás szállások": "79"
                                },
                                {
                                    "CSILLAGOK_SZAMA": "4",
                                    "TIPUS": "NULL",
                                    "Férőhelyek száma összesen": "188",
                                    "Klímás szállások": "79"
                                },
                                {
                                    "CSILLAGOK_SZAMA": "NULL",
                                    "TIPUS": "NULL",
                                    "Férőhelyek száma összesen": "715",
                                    "Klímás szállások": "294"
                                }
                            ]
                        },
                        "text/html": "<table><tr><th>CSILLAGOK_SZAMA</th><th>TIPUS</th><th>Férőhelyek száma összesen</th><th>Klímás szállások</th></tr><tr><td>0</td><td>Apartman</td><td>46</td><td>17</td></tr><tr><td>0</td><td>Diákszálló</td><td>24</td><td>10</td></tr><tr><td>0</td><td>vendégház</td><td>72</td><td>29</td></tr><tr><td>0</td><td>NULL</td><td>142</td><td>56</td></tr><tr><td>3</td><td>Hotel</td><td>249</td><td>105</td></tr><tr><td>3</td><td>panzió</td><td>136</td><td>54</td></tr><tr><td>3</td><td>NULL</td><td>385</td><td>159</td></tr><tr><td>4</td><td>Hotel</td><td>188</td><td>79</td></tr><tr><td>4</td><td>NULL</td><td>188</td><td>79</td></tr><tr><td>NULL</td><td>NULL</td><td>715</td><td>294</td></tr></table>"
                    },
                    "metadata": {}
                }
            ],
            "execution_count": 3
        },
        {
            "cell_type": "markdown",
            "source": [
                "Listázza ki a férőhelyek összességéről csillagok száma, azon belül a szállás típusa alapján csoportosítva CUBE záradékkal. <span style=\"color: var(--vscode-foreground);\">Ebben megtalálhatóak az összesítések részeredményei a csillagok számára lebontva, és a szállások típusára lebontva is.</span>"
            ],
            "metadata": {
                "azdata_cell_guid": "7f7ad97b-0727-4a90-9fbf-ab4f9b403467"
            },
            "attachments": {}
        },
        {
            "cell_type": "code",
            "source": [
                "SELECT CSILLAGOK_SZAMA,\r\n",
                "       TIPUS,\r\n",
                "       SUM(FEROHELY) as 'Férőhelyek száma összesen',\r\n",
                "       COUNT(KLIMAS) as 'Klímás szállások'\r\n",
                "FROM Szallashely JOIN Szoba ON Szallashely.SZALLAS_ID = Szoba.SZALLAS_FK\r\n",
                "GROUP BY CUBE(CSILLAGOK_SZAMA, TIPUS);"
            ],
            "metadata": {
                "azdata_cell_guid": "28153114-203a-4a27-bced-3007febb864f",
                "language": "sql"
            },
            "outputs": [
                {
                    "output_type": "display_data",
                    "data": {
                        "text/html": "(15 rows affected)"
                    },
                    "metadata": {}
                },
                {
                    "output_type": "display_data",
                    "data": {
                        "text/html": "Total execution time: 00:00:00.113"
                    },
                    "metadata": {}
                },
                {
                    "output_type": "execute_result",
                    "execution_count": 7,
                    "data": {
                        "application/vnd.dataresource+json": {
                            "schema": {
                                "fields": [
                                    {
                                        "name": "CSILLAGOK_SZAMA"
                                    },
                                    {
                                        "name": "TIPUS"
                                    },
                                    {
                                        "name": "Férőhelyek száma összesen"
                                    },
                                    {
                                        "name": "Klímás szállások"
                                    }
                                ]
                            },
                            "data": [
                                {
                                    "CSILLAGOK_SZAMA": "0",
                                    "TIPUS": "Apartman",
                                    "Férőhelyek száma összesen": "46",
                                    "Klímás szállások": "17"
                                },
                                {
                                    "CSILLAGOK_SZAMA": "NULL",
                                    "TIPUS": "Apartman",
                                    "Férőhelyek száma összesen": "46",
                                    "Klímás szállások": "17"
                                },
                                {
                                    "CSILLAGOK_SZAMA": "0",
                                    "TIPUS": "Diákszálló",
                                    "Férőhelyek száma összesen": "24",
                                    "Klímás szállások": "10"
                                },
                                {
                                    "CSILLAGOK_SZAMA": "NULL",
                                    "TIPUS": "Diákszálló",
                                    "Férőhelyek száma összesen": "24",
                                    "Klímás szállások": "10"
                                },
                                {
                                    "CSILLAGOK_SZAMA": "3",
                                    "TIPUS": "Hotel",
                                    "Férőhelyek száma összesen": "249",
                                    "Klímás szállások": "105"
                                },
                                {
                                    "CSILLAGOK_SZAMA": "4",
                                    "TIPUS": "Hotel",
                                    "Férőhelyek száma összesen": "188",
                                    "Klímás szállások": "79"
                                },
                                {
                                    "CSILLAGOK_SZAMA": "NULL",
                                    "TIPUS": "Hotel",
                                    "Férőhelyek száma összesen": "437",
                                    "Klímás szállások": "184"
                                },
                                {
                                    "CSILLAGOK_SZAMA": "3",
                                    "TIPUS": "panzió",
                                    "Férőhelyek száma összesen": "136",
                                    "Klímás szállások": "54"
                                },
                                {
                                    "CSILLAGOK_SZAMA": "NULL",
                                    "TIPUS": "panzió",
                                    "Férőhelyek száma összesen": "136",
                                    "Klímás szállások": "54"
                                },
                                {
                                    "CSILLAGOK_SZAMA": "0",
                                    "TIPUS": "vendégház",
                                    "Férőhelyek száma összesen": "72",
                                    "Klímás szállások": "29"
                                },
                                {
                                    "CSILLAGOK_SZAMA": "NULL",
                                    "TIPUS": "vendégház",
                                    "Férőhelyek száma összesen": "72",
                                    "Klímás szállások": "29"
                                },
                                {
                                    "CSILLAGOK_SZAMA": "NULL",
                                    "TIPUS": "NULL",
                                    "Férőhelyek száma összesen": "715",
                                    "Klímás szállások": "294"
                                },
                                {
                                    "CSILLAGOK_SZAMA": "0",
                                    "TIPUS": "NULL",
                                    "Férőhelyek száma összesen": "142",
                                    "Klímás szállások": "56"
                                },
                                {
                                    "CSILLAGOK_SZAMA": "3",
                                    "TIPUS": "NULL",
                                    "Férőhelyek száma összesen": "385",
                                    "Klímás szállások": "159"
                                },
                                {
                                    "CSILLAGOK_SZAMA": "4",
                                    "TIPUS": "NULL",
                                    "Férőhelyek száma összesen": "188",
                                    "Klímás szállások": "79"
                                }
                            ]
                        },
                        "text/html": "<table><tr><th>CSILLAGOK_SZAMA</th><th>TIPUS</th><th>Férőhelyek száma összesen</th><th>Klímás szállások</th></tr><tr><td>0</td><td>Apartman</td><td>46</td><td>17</td></tr><tr><td>NULL</td><td>Apartman</td><td>46</td><td>17</td></tr><tr><td>0</td><td>Diákszálló</td><td>24</td><td>10</td></tr><tr><td>NULL</td><td>Diákszálló</td><td>24</td><td>10</td></tr><tr><td>3</td><td>Hotel</td><td>249</td><td>105</td></tr><tr><td>4</td><td>Hotel</td><td>188</td><td>79</td></tr><tr><td>NULL</td><td>Hotel</td><td>437</td><td>184</td></tr><tr><td>3</td><td>panzió</td><td>136</td><td>54</td></tr><tr><td>NULL</td><td>panzió</td><td>136</td><td>54</td></tr><tr><td>0</td><td>vendégház</td><td>72</td><td>29</td></tr><tr><td>NULL</td><td>vendégház</td><td>72</td><td>29</td></tr><tr><td>NULL</td><td>NULL</td><td>715</td><td>294</td></tr><tr><td>0</td><td>NULL</td><td>142</td><td>56</td></tr><tr><td>3</td><td>NULL</td><td>385</td><td>159</td></tr><tr><td>4</td><td>NULL</td><td>188</td><td>79</td></tr></table>"
                    },
                    "metadata": {}
                }
            ],
            "execution_count": 7
        },
        {
            "cell_type": "markdown",
            "source": [
                "Készítsünk listát az egyes ügyfelek átlagos tartózkodási idejéről az ügyfél születési éve, és a gyermekek száma szerint csoportosítva!"
            ],
            "metadata": {
                "azdata_cell_guid": "1c25f391-e5c7-45a6-90ef-8a25b860c3c0"
            },
            "attachments": {}
        },
        {
            "cell_type": "code",
            "source": [
                "SELECT YEAR(SZUL_DAT),\r\n",
                "       GYERMEK_SZAM,\r\n",
                "       AVG(DATEDIFF(day , METTOL, MEDDIG)) as 'Átlagos tartózkodási idő'\r\n",
                "FROM Vendeg JOIN Foglalas ON Vendeg.USERNEV = Foglalas.UGYFEL_FK\r\n",
                "GROUP BY GROUPING SETS(YEAR(SZUL_DAT),(GYERMEK_SZAM))\r\n",
                ""
            ],
            "metadata": {
                "azdata_cell_guid": "bda5f9be-a3dd-4a93-a0be-cb60305914b9",
                "language": "sql"
            },
            "outputs": [
                {
                    "output_type": "display_data",
                    "data": {
                        "text/html": "(37 rows affected)"
                    },
                    "metadata": {}
                },
                {
                    "output_type": "display_data",
                    "data": {
                        "text/html": "Total execution time: 00:00:00.106"
                    },
                    "metadata": {}
                },
                {
                    "output_type": "execute_result",
                    "execution_count": 20,
                    "data": {
                        "application/vnd.dataresource+json": {
                            "schema": {
                                "fields": [
                                    {
                                        "name": "(No column name)"
                                    },
                                    {
                                        "name": "GYERMEK_SZAM"
                                    },
                                    {
                                        "name": "(No column name)"
                                    }
                                ]
                            },
                            "data": [
                                {
                                    "(No column name)": "4",
                                    "GYERMEK_SZAM": "0"
                                },
                                {
                                    "(No column name)": "3",
                                    "GYERMEK_SZAM": "1"
                                },
                                {
                                    "(No column name)": "3",
                                    "GYERMEK_SZAM": "2"
                                },
                                {
                                    "(No column name)": "3",
                                    "GYERMEK_SZAM": "3"
                                },
                                {
                                    "(No column name)": "5",
                                    "GYERMEK_SZAM": "4"
                                },
                                {
                                    "(No column name)": "4",
                                    "GYERMEK_SZAM": "NULL"
                                },
                                {
                                    "(No column name)": "3",
                                    "GYERMEK_SZAM": "NULL"
                                },
                                {
                                    "(No column name)": "3",
                                    "GYERMEK_SZAM": "NULL"
                                },
                                {
                                    "(No column name)": "3",
                                    "GYERMEK_SZAM": "NULL"
                                },
                                {
                                    "(No column name)": "3",
                                    "GYERMEK_SZAM": "NULL"
                                },
                                {
                                    "(No column name)": "3",
                                    "GYERMEK_SZAM": "NULL"
                                },
                                {
                                    "(No column name)": "3",
                                    "GYERMEK_SZAM": "NULL"
                                },
                                {
                                    "(No column name)": "4",
                                    "GYERMEK_SZAM": "NULL"
                                },
                                {
                                    "(No column name)": "4",
                                    "GYERMEK_SZAM": "NULL"
                                },
                                {
                                    "(No column name)": "3",
                                    "GYERMEK_SZAM": "NULL"
                                },
                                {
                                    "(No column name)": "3",
                                    "GYERMEK_SZAM": "NULL"
                                },
                                {
                                    "(No column name)": "3",
                                    "GYERMEK_SZAM": "NULL"
                                },
                                {
                                    "(No column name)": "4",
                                    "GYERMEK_SZAM": "NULL"
                                },
                                {
                                    "(No column name)": "3",
                                    "GYERMEK_SZAM": "NULL"
                                },
                                {
                                    "(No column name)": "4",
                                    "GYERMEK_SZAM": "NULL"
                                },
                                {
                                    "(No column name)": "3",
                                    "GYERMEK_SZAM": "NULL"
                                },
                                {
                                    "(No column name)": "3",
                                    "GYERMEK_SZAM": "NULL"
                                },
                                {
                                    "(No column name)": "4",
                                    "GYERMEK_SZAM": "NULL"
                                },
                                {
                                    "(No column name)": "4",
                                    "GYERMEK_SZAM": "NULL"
                                },
                                {
                                    "(No column name)": "3",
                                    "GYERMEK_SZAM": "NULL"
                                },
                                {
                                    "(No column name)": "4",
                                    "GYERMEK_SZAM": "NULL"
                                },
                                {
                                    "(No column name)": "3",
                                    "GYERMEK_SZAM": "NULL"
                                },
                                {
                                    "(No column name)": "3",
                                    "GYERMEK_SZAM": "NULL"
                                },
                                {
                                    "(No column name)": "3",
                                    "GYERMEK_SZAM": "NULL"
                                },
                                {
                                    "(No column name)": "4",
                                    "GYERMEK_SZAM": "NULL"
                                },
                                {
                                    "(No column name)": "4",
                                    "GYERMEK_SZAM": "NULL"
                                },
                                {
                                    "(No column name)": "3",
                                    "GYERMEK_SZAM": "NULL"
                                },
                                {
                                    "(No column name)": "3",
                                    "GYERMEK_SZAM": "NULL"
                                },
                                {
                                    "(No column name)": "3",
                                    "GYERMEK_SZAM": "NULL"
                                },
                                {
                                    "(No column name)": "4",
                                    "GYERMEK_SZAM": "NULL"
                                },
                                {
                                    "(No column name)": "3",
                                    "GYERMEK_SZAM": "NULL"
                                },
                                {
                                    "(No column name)": "8",
                                    "GYERMEK_SZAM": "NULL"
                                }
                            ]
                        },
                        "text/html": "<table><tr><th>(No column name)</th><th>GYERMEK_SZAM</th><th>(No column name)</th></tr><tr><td>NULL</td><td>0</td><td>4</td></tr><tr><td>NULL</td><td>1</td><td>3</td></tr><tr><td>NULL</td><td>2</td><td>3</td></tr><tr><td>NULL</td><td>3</td><td>3</td></tr><tr><td>NULL</td><td>4</td><td>5</td></tr><tr><td>1967</td><td>NULL</td><td>4</td></tr><tr><td>1968</td><td>NULL</td><td>3</td></tr><tr><td>1969</td><td>NULL</td><td>3</td></tr><tr><td>1970</td><td>NULL</td><td>3</td></tr><tr><td>1971</td><td>NULL</td><td>3</td></tr><tr><td>1972</td><td>NULL</td><td>3</td></tr><tr><td>1973</td><td>NULL</td><td>3</td></tr><tr><td>1974</td><td>NULL</td><td>4</td></tr><tr><td>1975</td><td>NULL</td><td>4</td></tr><tr><td>1976</td><td>NULL</td><td>3</td></tr><tr><td>1977</td><td>NULL</td><td>3</td></tr><tr><td>1978</td><td>NULL</td><td>3</td></tr><tr><td>1979</td><td>NULL</td><td>4</td></tr><tr><td>1980</td><td>NULL</td><td>3</td></tr><tr><td>1981</td><td>NULL</td><td>4</td></tr><tr><td>1982</td><td>NULL</td><td>3</td></tr><tr><td>1983</td><td>NULL</td><td>3</td></tr><tr><td>1984</td><td>NULL</td><td>4</td></tr><tr><td>1985</td><td>NULL</td><td>4</td></tr><tr><td>1986</td><td>NULL</td><td>3</td></tr><tr><td>1987</td><td>NULL</td><td>4</td></tr><tr><td>1988</td><td>NULL</td><td>3</td></tr><tr><td>1989</td><td>NULL</td><td>3</td></tr><tr><td>1990</td><td>NULL</td><td>3</td></tr><tr><td>1991</td><td>NULL</td><td>4</td></tr><tr><td>1992</td><td>NULL</td><td>4</td></tr><tr><td>1993</td><td>NULL</td><td>3</td></tr><tr><td>1994</td><td>NULL</td><td>3</td></tr><tr><td>1995</td><td>NULL</td><td>3</td></tr><tr><td>1996</td><td>NULL</td><td>4</td></tr><tr><td>1997</td><td>NULL</td><td>3</td></tr><tr><td>1998</td><td>NULL</td><td>8</td></tr></table>"
                    },
                    "metadata": {}
                }
            ],
            "execution_count": 20
        }
    ]
}