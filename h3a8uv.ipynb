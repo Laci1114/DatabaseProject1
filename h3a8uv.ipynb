{
    "metadata": {
        "kernelspec": {
            "name": "SQL",
            "display_name": "SQL",
            "language": "sql"
        },
        "language_info": {
            "name": "sql",
            "version": ""
        }
    },
    "nbformat_minor": 2,
    "nbformat": 4,
    "cells": [
        {
            "cell_type": "markdown",
            "source": [
                "- Hozzon létre 3 lekérdezést, amelyeknél a GROUP BY speciális lehetőségeit használja"
            ],
            "metadata": {
                "azdata_cell_guid": "95c15ac7-496e-4054-b7b9-ebea0bddaefb"
            },
            "attachments": {}
        },
        {
            "cell_type": "markdown",
            "source": [
                "Listázza ki a férőhelyek összességéről csillagok száma, azon belül a szállás típusa alapján csoportosítva ROLLUP záradékkal"
            ],
            "metadata": {
                "language": "sql",
                "azdata_cell_guid": "eccd9fd5-e226-42c4-8359-1d9109a86192"
            },
            "attachments": {}
        },
        {
            "cell_type": "code",
            "source": [
                "SELECT CSILLAGOK_SZAMA,\r\n",
                "       TIPUS,\r\n",
                "       SUM(FEROHELY)\r\n",
                "FROM Szallashely JOIN Szoba ON Szallashely.SZALLAS_ID = Szoba.SZALLAS_FK\r\n",
                "GROUP BY ROLLUP(CSILLAGOK_SZAMA, TIPUS);"
            ],
            "metadata": {
                "language": "sql",
                "azdata_cell_guid": "02b3fcd7-6dcf-4d70-bc77-0aa55f3f76e1",
                "tags": []
            },
            "outputs": [
                {
                    "output_type": "display_data",
                    "data": {
                        "text/html": "(10 rows affected)"
                    },
                    "metadata": {}
                },
                {
                    "output_type": "display_data",
                    "data": {
                        "text/html": "Total execution time: 00:00:00.088"
                    },
                    "metadata": {}
                },
                {
                    "output_type": "execute_result",
                    "execution_count": 5,
                    "data": {
                        "application/vnd.dataresource+json": {
                            "schema": {
                                "fields": [
                                    {
                                        "name": "CSILLAGOK_SZAMA"
                                    },
                                    {
                                        "name": "TIPUS"
                                    },
                                    {
                                        "name": "(No column name)"
                                    }
                                ]
                            },
                            "data": [
                                {
                                    "CSILLAGOK_SZAMA": "0",
                                    "TIPUS": "Apartman",
                                    "(No column name)": "46"
                                },
                                {
                                    "CSILLAGOK_SZAMA": "0",
                                    "TIPUS": "Diákszálló",
                                    "(No column name)": "24"
                                },
                                {
                                    "CSILLAGOK_SZAMA": "0",
                                    "TIPUS": "vendégház",
                                    "(No column name)": "72"
                                },
                                {
                                    "CSILLAGOK_SZAMA": "0",
                                    "TIPUS": "NULL",
                                    "(No column name)": "142"
                                },
                                {
                                    "CSILLAGOK_SZAMA": "3",
                                    "TIPUS": "Hotel",
                                    "(No column name)": "249"
                                },
                                {
                                    "CSILLAGOK_SZAMA": "3",
                                    "TIPUS": "panzió",
                                    "(No column name)": "136"
                                },
                                {
                                    "CSILLAGOK_SZAMA": "3",
                                    "TIPUS": "NULL",
                                    "(No column name)": "385"
                                },
                                {
                                    "CSILLAGOK_SZAMA": "4",
                                    "TIPUS": "Hotel",
                                    "(No column name)": "188"
                                },
                                {
                                    "CSILLAGOK_SZAMA": "4",
                                    "TIPUS": "NULL",
                                    "(No column name)": "188"
                                },
                                {
                                    "CSILLAGOK_SZAMA": "NULL",
                                    "TIPUS": "NULL",
                                    "(No column name)": "715"
                                }
                            ]
                        },
                        "text/html": "<table><tr><th>CSILLAGOK_SZAMA</th><th>TIPUS</th><th>(No column name)</th></tr><tr><td>0</td><td>Apartman</td><td>46</td></tr><tr><td>0</td><td>Diákszálló</td><td>24</td></tr><tr><td>0</td><td>vendégház</td><td>72</td></tr><tr><td>0</td><td>NULL</td><td>142</td></tr><tr><td>3</td><td>Hotel</td><td>249</td></tr><tr><td>3</td><td>panzió</td><td>136</td></tr><tr><td>3</td><td>NULL</td><td>385</td></tr><tr><td>4</td><td>Hotel</td><td>188</td></tr><tr><td>4</td><td>NULL</td><td>188</td></tr><tr><td>NULL</td><td>NULL</td><td>715</td></tr></table>"
                    },
                    "metadata": {}
                }
            ],
            "execution_count": 5
        }
    ]
}