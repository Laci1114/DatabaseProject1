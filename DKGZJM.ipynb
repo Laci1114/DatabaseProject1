{
    "cells": [
        {
            "cell_type": "code",
            "execution_count": 5,
            "metadata": {
                "azdata_cell_guid": "50b12c59-0c3b-4899-962e-0012ad99ec63",
                "language": "sql",
                "tags": []
            },
            "outputs": [
                {
                    "data": {
                        "text/html": [
                            "(21 rows affected)"
                        ]
                    },
                    "metadata": {},
                    "output_type": "display_data"
                },
                {
                    "data": {
                        "text/html": [
                            "Total execution time: 00:00:00.157"
                        ]
                    },
                    "metadata": {},
                    "output_type": "display_data"
                },
                {
                    "data": {
                        "application/vnd.dataresource+json": {
                            "data": [
                                {
                                    "Atlagos_Csillagok": "0",
                                    "CIM": "4200 Hajdúszoboszló, Wesselényi utca 56.",
                                    "CSILLAGOK_SZAMA": "0",
                                    "HELY": "Hajdúbihar megye",
                                    "ROGZITETTE": "Sára",
                                    "ROGZ_IDO": "2016-03-06",
                                    "SZALLAS_ID": "3",
                                    "SZALLAS_NEV": "Fortuna Apartman",
                                    "TIPUS": "Apartman"
                                },
                                {
                                    "Atlagos_Csillagok": "0",
                                    "CIM": "8630 Balatonboglár, Dózsa György utca 108",
                                    "CSILLAGOK_SZAMA": "0",
                                    "HELY": "Balaton-dél",
                                    "ROGZITETTE": "Mari",
                                    "ROGZ_IDO": "2016-03-11",
                                    "SZALLAS_ID": "7",
                                    "SZALLAS_NEV": "Szieszta Apartmanház",
                                    "TIPUS": "Apartman"
                                },
                                {
                                    "Atlagos_Csillagok": "0",
                                    "CIM": "7570 Barcs, Kossuth u. 13.",
                                    "CSILLAGOK_SZAMA": "0",
                                    "HELY": "Dél-Somogy",
                                    "ROGZITETTE": "Béla",
                                    "ROGZ_IDO": "2016-04-07",
                                    "SZALLAS_ID": "18",
                                    "SZALLAS_NEV": "Fortuna Apartman",
                                    "TIPUS": "Apartman"
                                },
                                {
                                    "Atlagos_Csillagok": "0",
                                    "CIM": "1146 Budapest, Ajtósi Dürer sor 23.",
                                    "CSILLAGOK_SZAMA": "0",
                                    "HELY": "Budapest",
                                    "ROGZITETTE": "Sára",
                                    "ROGZ_IDO": "2016-04-07",
                                    "SZALLAS_ID": "20",
                                    "SZALLAS_NEV": "Kollégium",
                                    "TIPUS": "Diákszálló"
                                },
                                {
                                    "Atlagos_Csillagok": "3",
                                    "CIM": "2230 Gyömrő, Bergszász u. 5.",
                                    "CSILLAGOK_SZAMA": "3",
                                    "HELY": "Pest megye",
                                    "ROGZITETTE": "Mari",
                                    "ROGZ_IDO": "2016-04-01",
                                    "SZALLAS_ID": "16",
                                    "SZALLAS_NEV": "Bagoly Hotel",
                                    "TIPUS": "Hotel"
                                },
                                {
                                    "Atlagos_Csillagok": "3",
                                    "CIM": "7121 Szálka, Petőfi Sándor u.",
                                    "CSILLAGOK_SZAMA": "4",
                                    "HELY": "Tolna megye",
                                    "ROGZITETTE": "Béla",
                                    "ROGZ_IDO": "2016-04-04",
                                    "SZALLAS_ID": "17",
                                    "SZALLAS_NEV": "Szarvas Hotel",
                                    "TIPUS": "Hotel"
                                },
                                {
                                    "Atlagos_Csillagok": "3",
                                    "CIM": "1016 Budapest, Hegyalja út 12",
                                    "CSILLAGOK_SZAMA": "3",
                                    "HELY": "Budapest",
                                    "ROGZITETTE": "Béla",
                                    "ROGZ_IDO": "2016-03-24",
                                    "SZALLAS_ID": "12",
                                    "SZALLAS_NEV": "Gold Hotel",
                                    "TIPUS": "Hotel"
                                },
                                {
                                    "Atlagos_Csillagok": "3",
                                    "CIM": "8600 Siófok (Széplak), Akácfa utca 1",
                                    "CSILLAGOK_SZAMA": "3",
                                    "HELY": "Balaton-dél",
                                    "ROGZITETTE": "Béla",
                                    "ROGZ_IDO": "2016-03-08",
                                    "SZALLAS_ID": "6",
                                    "SZALLAS_NEV": "Kentaur Hotel",
                                    "TIPUS": "Hotel"
                                },
                                {
                                    "Atlagos_Csillagok": "3",
                                    "CIM": "8623 Balatonföldvár, Rákóczi Ferenc út 45.",
                                    "CSILLAGOK_SZAMA": "4",
                                    "HELY": "Balaton-dél",
                                    "ROGZITETTE": "Béla",
                                    "ROGZ_IDO": "2016-03-13",
                                    "SZALLAS_ID": "8",
                                    "SZALLAS_NEV": "Hotel Három Hattyú",
                                    "TIPUS": "Hotel"
                                },
                                {
                                    "Atlagos_Csillagok": "3",
                                    "CIM": "1097 Budapest, Albert Flórián út 3",
                                    "CSILLAGOK_SZAMA": "4",
                                    "HELY": "Budapest",
                                    "ROGZITETTE": "Sára",
                                    "ROGZ_IDO": "2016-03-20",
                                    "SZALLAS_ID": "10",
                                    "SZALLAS_NEV": "Lagúna Hotel",
                                    "TIPUS": "Hotel"
                                },
                                {
                                    "Atlagos_Csillagok": "3",
                                    "CIM": "8624 Balatonföldvár, Kiss u.2.",
                                    "CSILLAGOK_SZAMA": "3",
                                    "HELY": "Balaton-dél",
                                    "ROGZITETTE": "Mari",
                                    "ROGZ_IDO": "2016-03-16",
                                    "SZALLAS_ID": "9",
                                    "SZALLAS_NEV": "Jáde panzió",
                                    "TIPUS": "panzió"
                                },
                                {
                                    "Atlagos_Csillagok": "3",
                                    "CIM": "1019 Budapest XIV. Cinkotai út 86.",
                                    "CSILLAGOK_SZAMA": "3",
                                    "HELY": "Budapest",
                                    "ROGZITETTE": "Béla",
                                    "ROGZ_IDO": "2016-03-07",
                                    "SZALLAS_ID": "4",
                                    "SZALLAS_NEV": "Fortuna panzió",
                                    "TIPUS": "panzió"
                                },
                                {
                                    "Atlagos_Csillagok": "3",
                                    "CIM": "5900 Orosháza, Gyopárosfürdő Tópart utca 3.",
                                    "CSILLAGOK_SZAMA": "3",
                                    "HELY": "Békés megye",
                                    "ROGZITETTE": "Sára",
                                    "ROGZ_IDO": "2016-03-08",
                                    "SZALLAS_ID": "5",
                                    "SZALLAS_NEV": "Fortuna Panzió",
                                    "TIPUS": "panzió"
                                },
                                {
                                    "Atlagos_Csillagok": "3",
                                    "CIM": "8600 Siófok, Virág utca 1",
                                    "CSILLAGOK_SZAMA": "3",
                                    "HELY": "Balaton-dél",
                                    "ROGZITETTE": "Béla",
                                    "ROGZ_IDO": "2016-03-29",
                                    "SZALLAS_ID": "15",
                                    "SZALLAS_NEV": "Tímárház Panzió",
                                    "TIPUS": "panzió"
                                },
                                {
                                    "Atlagos_Csillagok": "3",
                                    "CIM": "6722 Szeged, Petőfi Sándor út 3.",
                                    "CSILLAGOK_SZAMA": "3",
                                    "HELY": "Csongrád megye",
                                    "ROGZITETTE": "Sára",
                                    "ROGZ_IDO": "2016-03-27",
                                    "SZALLAS_ID": "13",
                                    "SZALLAS_NEV": "Riviéra Panzió",
                                    "TIPUS": "panzió"
                                },
                                {
                                    "Atlagos_Csillagok": "0",
                                    "CIM": "6723 Szeged, Nagy u. 12.",
                                    "CSILLAGOK_SZAMA": "0",
                                    "HELY": "Csongrád megye",
                                    "ROGZITETTE": "Béla",
                                    "ROGZ_IDO": "2016-03-27",
                                    "SZALLAS_ID": "14",
                                    "SZALLAS_NEV": "Nyárfás Vendégház",
                                    "TIPUS": "vendégház"
                                },
                                {
                                    "Atlagos_Csillagok": "0",
                                    "CIM": "7570 Barcs, Bajcsy-Zs. u. 53",
                                    "CSILLAGOK_SZAMA": "0",
                                    "HELY": "Dél-Somogy",
                                    "ROGZITETTE": "Sára",
                                    "ROGZ_IDO": "2016-04-07",
                                    "SZALLAS_ID": "19",
                                    "SZALLAS_NEV": "Nyárfás Vendégház",
                                    "TIPUS": "vendégház"
                                },
                                {
                                    "Atlagos_Csillagok": "0",
                                    "CIM": "8630 Balatonboglár, Radnóti Miklós utca 8",
                                    "CSILLAGOK_SZAMA": "0",
                                    "HELY": "Balaton-dél",
                                    "ROGZITETTE": "Béla",
                                    "ROGZ_IDO": "2016-02-28",
                                    "SZALLAS_ID": "1",
                                    "SZALLAS_NEV": "Sába-Ház",
                                    "TIPUS": "vendégház"
                                },
                                {
                                    "Atlagos_Csillagok": "0",
                                    "CIM": "8630 Balatonboglár, József Attila utca 25",
                                    "CSILLAGOK_SZAMA": "0",
                                    "HELY": "Balaton-dél",
                                    "ROGZITETTE": "Béla",
                                    "ROGZ_IDO": "2016-03-02",
                                    "SZALLAS_ID": "2",
                                    "SZALLAS_NEV": "Családi Ház",
                                    "TIPUS": "vendégház"
                                },
                                {
                                    "Atlagos_Csillagok": "0",
                                    "CIM": "8220 Balatonalmádi Neptun u. 23.",
                                    "CSILLAGOK_SZAMA": "0",
                                    "HELY": "Balaton-észak",
                                    "ROGZITETTE": "Béla",
                                    "ROGZ_IDO": "2016-03-22",
                                    "SZALLAS_ID": "11",
                                    "SZALLAS_NEV": "Partiszél Vendégház",
                                    "TIPUS": "vendégház"
                                },
                                {
                                    "Atlagos_Csillagok": "0",
                                    "CIM": "7570 Barcs, Magyar u. 10.",
                                    "CSILLAGOK_SZAMA": "0",
                                    "HELY": "Dél-Somogy",
                                    "ROGZITETTE": "Béla",
                                    "ROGZ_IDO": "2016-04-07",
                                    "SZALLAS_ID": "21",
                                    "SZALLAS_NEV": "Müller Vendégház",
                                    "TIPUS": "vendégház"
                                }
                            ],
                            "schema": {
                                "fields": [
                                    {
                                        "name": "SZALLAS_ID"
                                    },
                                    {
                                        "name": "SZALLAS_NEV"
                                    },
                                    {
                                        "name": "HELY"
                                    },
                                    {
                                        "name": "CSILLAGOK_SZAMA"
                                    },
                                    {
                                        "name": "TIPUS"
                                    },
                                    {
                                        "name": "ROGZITETTE"
                                    },
                                    {
                                        "name": "ROGZ_IDO"
                                    },
                                    {
                                        "name": "CIM"
                                    },
                                    {
                                        "name": "Atlagos_Csillagok"
                                    }
                                ]
                            }
                        },
                        "text/html": [
                            "<table>\n",
                            "<tr><th>SZALLAS_ID</th><th>SZALLAS_NEV</th><th>HELY</th><th>CSILLAGOK_SZAMA</th><th>TIPUS</th><th>ROGZITETTE</th><th>ROGZ_IDO</th><th>CIM</th><th>Atlagos_Csillagok</th></tr>\n",
                            "<tr><td>3</td><td>Fortuna Apartman</td><td>Hajdúbihar megye</td><td>0</td><td>Apartman</td><td>Sára</td><td>2016-03-06</td><td>4200 Hajdúszoboszló, Wesselényi utca 56.</td><td>0</td></tr>\n",
                            "<tr><td>7</td><td>Szieszta Apartmanház</td><td>Balaton-dél</td><td>0</td><td>Apartman</td><td>Mari</td><td>2016-03-11</td><td>8630 Balatonboglár, Dózsa György utca 108</td><td>0</td></tr>\n",
                            "<tr><td>18</td><td>Fortuna Apartman</td><td>Dél-Somogy</td><td>0</td><td>Apartman</td><td>Béla</td><td>2016-04-07</td><td>7570 Barcs, Kossuth u. 13.</td><td>0</td></tr>\n",
                            "<tr><td>20</td><td>Kollégium</td><td>Budapest</td><td>0</td><td>Diákszálló</td><td>Sára</td><td>2016-04-07</td><td>1146 Budapest, Ajtósi Dürer sor 23.</td><td>0</td></tr>\n",
                            "<tr><td>16</td><td>Bagoly Hotel</td><td>Pest megye</td><td>3</td><td>Hotel</td><td>Mari</td><td>2016-04-01</td><td>2230 Gyömrő, Bergszász u. 5.</td><td>3</td></tr>\n",
                            "<tr><td>17</td><td>Szarvas Hotel</td><td>Tolna megye</td><td>4</td><td>Hotel</td><td>Béla</td><td>2016-04-04</td><td>7121 Szálka, Petőfi Sándor u.</td><td>3</td></tr>\n",
                            "<tr><td>12</td><td>Gold Hotel</td><td>Budapest</td><td>3</td><td>Hotel</td><td>Béla</td><td>2016-03-24</td><td>1016 Budapest, Hegyalja út 12</td><td>3</td></tr>\n",
                            "<tr><td>6</td><td>Kentaur Hotel</td><td>Balaton-dél</td><td>3</td><td>Hotel</td><td>Béla</td><td>2016-03-08</td><td>8600 Siófok (Széplak), Akácfa utca 1</td><td>3</td></tr>\n",
                            "<tr><td>8</td><td>Hotel Három Hattyú</td><td>Balaton-dél</td><td>4</td><td>Hotel</td><td>Béla</td><td>2016-03-13</td><td>8623 Balatonföldvár, Rákóczi Ferenc út 45.</td><td>3</td></tr>\n",
                            "<tr><td>10</td><td>Lagúna Hotel</td><td>Budapest</td><td>4</td><td>Hotel</td><td>Sára</td><td>2016-03-20</td><td>1097 Budapest, Albert Flórián út 3</td><td>3</td></tr>\n",
                            "<tr><td>9</td><td>Jáde panzió</td><td>Balaton-dél</td><td>3</td><td>panzió</td><td>Mari</td><td>2016-03-16</td><td>8624 Balatonföldvár, Kiss u.2.</td><td>3</td></tr>\n",
                            "<tr><td>4</td><td>Fortuna panzió</td><td>Budapest</td><td>3</td><td>panzió</td><td>Béla</td><td>2016-03-07</td><td>1019 Budapest XIV. Cinkotai út 86.</td><td>3</td></tr>\n",
                            "<tr><td>5</td><td>Fortuna Panzió</td><td>Békés megye</td><td>3</td><td>panzió</td><td>Sára</td><td>2016-03-08</td><td>5900 Orosháza, Gyopárosfürdő Tópart utca 3.</td><td>3</td></tr>\n",
                            "<tr><td>15</td><td>Tímárház Panzió</td><td>Balaton-dél</td><td>3</td><td>panzió</td><td>Béla</td><td>2016-03-29</td><td>8600 Siófok, Virág utca 1</td><td>3</td></tr>\n",
                            "<tr><td>13</td><td>Riviéra Panzió</td><td>Csongrád megye</td><td>3</td><td>panzió</td><td>Sára</td><td>2016-03-27</td><td>6722 Szeged, Petőfi Sándor út 3.</td><td>3</td></tr>\n",
                            "<tr><td>14</td><td>Nyárfás Vendégház</td><td>Csongrád megye</td><td>0</td><td>vendégház</td><td>Béla</td><td>2016-03-27</td><td>6723 Szeged, Nagy u. 12.</td><td>0</td></tr>\n",
                            "<tr><td>19</td><td>Nyárfás Vendégház</td><td>Dél-Somogy</td><td>0</td><td>vendégház</td><td>Sára</td><td>2016-04-07</td><td>7570 Barcs, Bajcsy-Zs. u. 53</td><td>0</td></tr>\n",
                            "<tr><td>1</td><td>Sába-Ház</td><td>Balaton-dél</td><td>0</td><td>vendégház</td><td>Béla</td><td>2016-02-28</td><td>8630 Balatonboglár, Radnóti Miklós utca 8</td><td>0</td></tr>\n",
                            "<tr><td>2</td><td>Családi Ház</td><td>Balaton-dél</td><td>0</td><td>vendégház</td><td>Béla</td><td>2016-03-02</td><td>8630 Balatonboglár, József Attila utca 25</td><td>0</td></tr>\n",
                            "<tr><td>11</td><td>Partiszél Vendégház</td><td>Balaton-észak</td><td>0</td><td>vendégház</td><td>Béla</td><td>2016-03-22</td><td>8220 Balatonalmádi Neptun u. 23.</td><td>0</td></tr>\n",
                            "<tr><td>21</td><td>Müller Vendégház</td><td>Dél-Somogy</td><td>0</td><td>vendégház</td><td>Béla</td><td>2016-04-07</td><td>7570 Barcs, Magyar u. 10.</td><td>0</td></tr>\n",
                            "</table>"
                        ]
                    },
                    "execution_count": 5,
                    "metadata": {},
                    "output_type": "execute_result"
                }
            ],
            "source": [
                "\n",
                "\n"
            ]
        }
    ],
    "metadata": {
        "kernelspec": {
            "display_name": "SQL",
            "language": "sql",
            "name": "SQL"
        },
        "language_info": {
            "name": "sql",
            "version": ""
        }
    },
    "nbformat": 4,
    "nbformat_minor": 2
}
