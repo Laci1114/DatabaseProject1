{
    "metadata": {
        "kernelspec": {
            "name": "SQL",
            "display_name": "SQL",
            "language": "sql"
        },
        "language_info": {
            "name": "sql",
            "version": ""
        }
    },
    "nbformat_minor": 2,
    "nbformat": 4,
    "cells": [
        {
            "cell_type": "code",
            "source": [
                "-- Az adatok beolvasása JSON formátumban és kiírása azokról, akik 35 év felettiek.\n",
                "DECLARE @json NVARCHAR(MAX);\n",
                "SET @json = N'[\n",
                "    {\"PersonID\": 1, \"FirstName\": \"Alice\", \"LastName\": \"Smith\", \"age\": 27, \"City\": \"Los Angeles\" }, \n",
                "    { \"PersonID\": 2, \"FirstName\": \"Bob\", \"LastName\": \"Johnson\", \"age\": 43, \"City\": \"Chicago\" }, \n",
                "    { \"PersonID\": 3, \"FirstName\": \"Charlie\", \"LastName\": \"Williams\", \"age\": 35, \"City\": \"Houston\" }, \n",
                "    { \"PersonID\": 4, \"FirstName\": \"David\", \"LastName\": \"Jones\", \"age\": 50, \"City\": \"Miami\" }, \n",
                "    { \"PersonID\": 5, \"FirstName\": \"Emma\", \"LastName\": \"Brown\", \"age\": 29, \"City\": \"Seattle\" }, \n",
                "    { \"PersonID\": 6, \"FirstName\": \"Frank\", \"LastName\": \"Davis\", \"age\": 38, \"City\": \"Denver\" }, \n",
                "    { \"PersonID\": 7, \"FirstName\": \"Grace\", \"LastName\": \"Miller\", \"age\": 44, \"City\": \"San Francisco\" }, \n",
                "    { \"PersonID\": 8, \"FirstName\": \"Henry\", \"LastName\": \"Wilson\", \"age\": 32, \"City\": \"Boston\" }, \n",
                "    { \"PersonID\": 9, \"FirstName\": \"Ivy\", \"LastName\": \"Taylor\", \"age\": 39, \"City\": \"Portland\" }, \n",
                "    { \"PersonID\": 10, \"FirstName\": \"Jack\", \"LastName\": \"Anderson\", \"age\": 48, \"City\": \"Phoenix\" }\n",
                "]'; \n",
                "\n",
                "SELECT *\n",
                "FROM OPENJSON(@json)\n",
                "WITH ( \n",
                "    PersonID INT '$.PersonID',\n",
                "    FirstName NVARCHAR(50) '$.FirstName',\n",
                "    Lastname NVARCHAR(50) '$.LastName',\n",
                "    age INT '$.age',\n",
                "    City NVARCHAR(50) '$.City'\n",
                ")\n",
                "WHERE age >= 35;\n",
                "\n",
                "\n",
                "\n",
                "\n"
            ],
            "metadata": {
                "azdata_cell_guid": "50b12c59-0c3b-4899-962e-0012ad99ec63",
                "language": "sql",
                "tags": []
            },
            "outputs": [
{
    "output_type": "display_data",
    "data": {
        "text/html": "(7 rows affected)"
    },
    "metadata": {}
}, {
    "output_type": "display_data",
    "data": {
        "text/html": "Total execution time: 00:00:00.519"
    },
    "metadata": {}
}, {
    "output_type": "execute_result",
    "metadata": {},
    "execution_count": 2,
    "data": {
        "application/vnd.dataresource+json": {
            "schema": {
                "fields": [
                    {
                        "name": "PersonID"
                    },
                    {
                        "name": "FirstName"
                    },
                    {
                        "name": "Lastname"
                    },
                    {
                        "name": "age"
                    },
                    {
                        "name": "City"
                    }
                ]
            },
            "data": [
                {
                    "PersonID": "2",
                    "FirstName": "Bob",
                    "Lastname": "Johnson",
                    "age": "43",
                    "City": "Chicago"
                },
                {
                    "PersonID": "3",
                    "FirstName": "Charlie",
                    "Lastname": "Williams",
                    "age": "35",
                    "City": "Houston"
                },
                {
                    "PersonID": "4",
                    "FirstName": "David",
                    "Lastname": "Jones",
                    "age": "50",
                    "City": "Miami"
                },
                {
                    "PersonID": "6",
                    "FirstName": "Frank",
                    "Lastname": "Davis",
                    "age": "38",
                    "City": "Denver"
                },
                {
                    "PersonID": "7",
                    "FirstName": "Grace",
                    "Lastname": "Miller",
                    "age": "44",
                    "City": "San Francisco"
                },
                {
                    "PersonID": "9",
                    "FirstName": "Ivy",
                    "Lastname": "Taylor",
                    "age": "39",
                    "City": "Portland"
                },
                {
                    "PersonID": "10",
                    "FirstName": "Jack",
                    "Lastname": "Anderson",
                    "age": "48",
                    "City": "Phoenix"
                }
            ]
        },
        "text/html": [
            "<table>",
            "<tr><th>PersonID</th><th>FirstName</th><th>Lastname</th><th>age</th><th>City</th></tr>",
            "<tr><td>2</td><td>Bob</td><td>Johnson</td><td>43</td><td>Chicago</td></tr>",
            "<tr><td>3</td><td>Charlie</td><td>Williams</td><td>35</td><td>Houston</td></tr>",
            "<tr><td>4</td><td>David</td><td>Jones</td><td>50</td><td>Miami</td></tr>",
            "<tr><td>6</td><td>Frank</td><td>Davis</td><td>38</td><td>Denver</td></tr>",
            "<tr><td>7</td><td>Grace</td><td>Miller</td><td>44</td><td>San Francisco</td></tr>",
            "<tr><td>9</td><td>Ivy</td><td>Taylor</td><td>39</td><td>Portland</td></tr>",
            "<tr><td>10</td><td>Jack</td><td>Anderson</td><td>48</td><td>Phoenix</td></tr>",
            "</table>"
        ]
    }
}
],
            "execution_count": 2
        }
    ]
}